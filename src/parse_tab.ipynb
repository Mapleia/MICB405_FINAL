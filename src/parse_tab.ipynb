{
 "cells": [
  {
   "cell_type": "code",
   "execution_count": null,
   "metadata": {
    "vscode": {
     "languageId": "r"
    }
   },
   "outputs": [
    {
     "ename": "",
     "evalue": "",
     "output_type": "error",
     "traceback": [
      "\u001b[1;31mFailed to start the Kernel. \n",
      "\u001b[1;31mError in file(filename, \"r\", encoding = encoding) : \n",
      "\u001b[1;31m  cannot open the connection\n",
      "\u001b[1;31mCalls: source -> file\n",
      "\u001b[1;31mIn addition: Warning message:\n",
      "\u001b[1;31mIn file(filename, \"r\", encoding = encoding) :\n",
      "\u001b[1;31m  cannot open file 'packrat/init.R': No such file or directory\n",
      "\u001b[1;31mExecution halted. \n",
      "\u001b[1;31mView Jupyter <a href='command:jupyter.viewOutput'>log</a> for further details."
     ]
    }
   ],
   "source": [
    "library(tidyverse)"
   ]
  }
 ],
 "metadata": {
  "kernelspec": {
   "display_name": "R",
   "language": "R",
   "name": "kernelspec"
  },
  "language_info": {
   "name": "R"
  }
 },
 "nbformat": 4,
 "nbformat_minor": 2
}
